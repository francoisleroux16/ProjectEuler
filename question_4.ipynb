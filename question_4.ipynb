{
 "metadata": {
  "language_info": {
   "codemirror_mode": {
    "name": "ipython",
    "version": 3
   },
   "file_extension": ".py",
   "mimetype": "text/x-python",
   "name": "python",
   "nbconvert_exporter": "python",
   "pygments_lexer": "ipython3",
   "version": "3.7.7"
  },
  "orig_nbformat": 4,
  "kernelspec": {
   "name": "python3",
   "display_name": "Python 3.7.7 64-bit ('base': conda)"
  },
  "interpreter": {
   "hash": "3bd24e571304ef278a0c5d5f271ca40870c73aff22f6d5e88d79b840b62578e2"
  }
 },
 "nbformat": 4,
 "nbformat_minor": 2,
 "cells": [
  {
   "source": [
    "# Question 4"
   ],
   "cell_type": "markdown",
   "metadata": {}
  },
  {
   "source": [
    "<p>A palindromic number reads the same both ways. The largest palindrome made from the product of two 2-digit numbers is 9009 = 91 × 99.</p>\n",
    "<p>Find the largest palindrome made from the product of two 3-digit numbers.</p>"
   ],
   "cell_type": "markdown",
   "metadata": {}
  },
  {
   "cell_type": "code",
   "execution_count": 37,
   "metadata": {},
   "outputs": [],
   "source": [
    "def question_4():\n",
    "    import math\n",
    "    def is_palindrome(N):\n",
    "        str_N = str(N)\n",
    "        if str_N[0] == str_N[-1]:\n",
    "            for i in range(1,math.ceil(len(str_N)/2)):\n",
    "                if str_N[i] != str_N[-(i+1)]: \n",
    "                    return False\n",
    "                    break\n",
    "            return True\n",
    "        else:\n",
    "            return False\n",
    "\n",
    "    def do_test(N1,N2):\n",
    "        return is_palindrome(N1*N2)\n",
    "    palindromes = []\n",
    "    for N1 in range(999,100,-1):\n",
    "        for N2 in range(999,100,-1):\n",
    "            if do_test(N1,N2):\n",
    "                palindromes.append(N1*N2)\n",
    "    return max(palindromes)"
   ]
  },
  {
   "cell_type": "code",
   "execution_count": 38,
   "metadata": {},
   "outputs": [
    {
     "output_type": "execute_result",
     "data": {
      "text/plain": [
       "906609"
      ]
     },
     "metadata": {},
     "execution_count": 38
    }
   ],
   "source": [
    "question_4()"
   ]
  },
  {
   "cell_type": "code",
   "execution_count": null,
   "metadata": {},
   "outputs": [],
   "source": []
  }
 ]
}