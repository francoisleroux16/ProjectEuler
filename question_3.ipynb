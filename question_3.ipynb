{
 "metadata": {
  "language_info": {
   "codemirror_mode": {
    "name": "ipython",
    "version": 3
   },
   "file_extension": ".py",
   "mimetype": "text/x-python",
   "name": "python",
   "nbconvert_exporter": "python",
   "pygments_lexer": "ipython3",
   "version": "3.7.7"
  },
  "orig_nbformat": 4,
  "kernelspec": {
   "name": "python3",
   "display_name": "Python 3.7.7 64-bit ('base': conda)"
  },
  "interpreter": {
   "hash": "3bd24e571304ef278a0c5d5f271ca40870c73aff22f6d5e88d79b840b62578e2"
  }
 },
 "nbformat": 4,
 "nbformat_minor": 2,
 "cells": [
  {
   "source": [
    "# Question 3"
   ],
   "cell_type": "markdown",
   "metadata": {}
  },
  {
   "cell_type": "code",
   "execution_count": 3,
   "metadata": {},
   "outputs": [],
   "source": [
    "def question_3(N):\n",
    "    import numpy as np\n",
    "    import math\n",
    "    \"\"\"\n",
    "    <p>The prime factors of 13195 are 5, 7, 13 and 29.</p>\n",
    "    <p>What is the largest prime factor of the number 600851475143 ?</p>\n",
    "    \"\"\"\n",
    "    list_of_primes = [2,3,5]\n",
    "    \n",
    "    def is_prime(val,prime_list=list_of_primes):\n",
    "        if val % 2 == 0:\n",
    "            return False\n",
    "        else:\n",
    "            for j in prime_list:\n",
    "                if val % j == 0:\n",
    "                    return False\n",
    "        return True\n",
    "    \n",
    "    def get_all_primes_up_to_N(N,prime_list=list_of_primes):\n",
    "        if N > 5:\n",
    "            for i in range(7,N+1,2):\n",
    "                if is_prime(i):\n",
    "                    prime_list.append(i)\n",
    "                    \n",
    "    get_all_primes_up_to_N(math.floor(math.sqrt(N)))\n",
    "    \n",
    "    def get_prime_factors(N,prime_vals=list_of_primes):\n",
    "        factors = []\n",
    "        for j in prime_vals:\n",
    "            if N % j == 0:\n",
    "                factors.append(j)\n",
    "        return factors\n",
    "    \n",
    "    factors_of_N = get_prime_factors(N)\n",
    "    return factors_of_N"
   ]
  },
  {
   "cell_type": "code",
   "execution_count": 4,
   "metadata": {},
   "outputs": [
    {
     "output_type": "stream",
     "name": "stdout",
     "text": [
      "The answer is: [71, 839, 1471, 6857]\n"
     ]
    }
   ],
   "source": [
    "q = question_3(600851475143)\n",
    "print(\"The answer is: {}\".format(q))"
   ]
  },
  {
   "cell_type": "code",
   "execution_count": null,
   "metadata": {},
   "outputs": [],
   "source": []
  }
 ]
}