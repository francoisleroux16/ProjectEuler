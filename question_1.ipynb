{
 "metadata": {
  "language_info": {
   "codemirror_mode": {
    "name": "ipython",
    "version": 3
   },
   "file_extension": ".py",
   "mimetype": "text/x-python",
   "name": "python",
   "nbconvert_exporter": "python",
   "pygments_lexer": "ipython3",
   "version": "3.7.7"
  },
  "orig_nbformat": 4,
  "kernelspec": {
   "name": "python3",
   "display_name": "Python 3.7.7 64-bit ('base': conda)"
  },
  "interpreter": {
   "hash": "3bd24e571304ef278a0c5d5f271ca40870c73aff22f6d5e88d79b840b62578e2"
  }
 },
 "nbformat": 4,
 "nbformat_minor": 2,
 "cells": [
  {
   "source": [
    "# Question 1"
   ],
   "cell_type": "markdown",
   "metadata": {}
  },
  {
   "cell_type": "code",
   "execution_count": 1,
   "metadata": {},
   "outputs": [],
   "source": [
    "def question_1(N):\n",
    "    \"\"\"\n",
    "\n",
    "If we list all the natural numbers below 10 that are multiples of 3 or 5, we get 3, 5, 6 and 9. The sum of these multiples is 23.\n",
    "\n",
    "Find the sum of all the multiples of 3 or 5 below 1000.\n",
    "    \"\"\"\n",
    "    sums = 0\n",
    "    for i in range(1,N):\n",
    "        if i % 9 != 0:\n",
    "            if i % 6 != 0:\n",
    "                if i % 3 == 0:\n",
    "                    sums += i\n",
    "                else:\n",
    "                    if i % 5 == 0 :\n",
    "                        sums += i\n",
    "            else:\n",
    "                sums += i\n",
    "        else:\n",
    "            sums += i\n",
    "    ans = sums\n",
    "    return ans"
   ]
  },
  {
   "cell_type": "code",
   "execution_count": 2,
   "metadata": {},
   "outputs": [
    {
     "output_type": "stream",
     "name": "stdout",
     "text": [
      "The answer is: 233168\n"
     ]
    }
   ],
   "source": [
    "q = question_1(1000)\n",
    "print(\"The answer is: {}\".format(q))"
   ]
  },
  {
   "cell_type": "code",
   "execution_count": null,
   "metadata": {},
   "outputs": [],
   "source": []
  }
 ]
}