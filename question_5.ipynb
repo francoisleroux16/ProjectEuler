{
 "metadata": {
  "language_info": {
   "codemirror_mode": {
    "name": "ipython",
    "version": 3
   },
   "file_extension": ".py",
   "mimetype": "text/x-python",
   "name": "python",
   "nbconvert_exporter": "python",
   "pygments_lexer": "ipython3",
   "version": 3
  },
  "orig_nbformat": 4
 },
 "nbformat": 4,
 "nbformat_minor": 2,
 "cells": [
  {
   "source": [
    "# Question 5\n",
    "\n",
    "$\\TeX$ can be used in this system of Jupyter Notebook. For example here is a simple fraction: $\\frac{5}{4}$\n",
    "We can make our math way more complicated $E = M C^{2}$ (This is obviously not complicated, I am just too lazy to type everything out now)"
   ],
   "cell_type": "markdown",
   "metadata": {}
  },
  {
   "cell_type": "code",
   "execution_count": null,
   "metadata": {},
   "outputs": [],
   "source": []
  }
 ]
}